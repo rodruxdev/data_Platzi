{
 "cells": [
  {
   "cell_type": "code",
   "execution_count": null,
   "metadata": {},
   "outputs": [],
   "source": [
    "print('Hello, world!')"
   ]
  },
  {
   "cell_type": "code",
   "execution_count": null,
   "metadata": {},
   "outputs": [],
   "source": [
    "print('Segunda linea')"
   ]
  },
  {
   "cell_type": "markdown",
   "metadata": {},
   "source": [
    "# Tipos de datos\n",
    "\n",
    "**Primitivos**"
   ]
  },
  {
   "cell_type": "code",
   "execution_count": null,
   "metadata": {},
   "outputs": [],
   "source": [
    "from datetime import datetime\n",
    "\n",
    "integer_type = 42\n",
    "float_type = 3.14159\n",
    "bool_type = False\n",
    "hex_type = 0xff\n",
    "oct_type = 0o23\n",
    "today = datetime.now()\n",
    "str_type = 'David'"
   ]
  },
  {
   "cell_type": "markdown",
   "metadata": {},
   "source": [
    "**Estructurados**"
   ]
  },
  {
   "cell_type": "code",
   "execution_count": null,
   "metadata": {},
   "outputs": [],
   "source": [
    "from IPython.display import Image\n",
    "\n",
    "Image('mysql_table_example.png')"
   ]
  },
  {
   "cell_type": "markdown",
   "metadata": {},
   "source": [
    "**Semi estruturados**"
   ]
  },
  {
   "cell_type": "code",
   "execution_count": null,
   "metadata": {},
   "outputs": [],
   "source": [
    "Image('html_markup_example.png')"
   ]
  },
  {
   "cell_type": "markdown",
   "metadata": {},
   "source": [
    "**No estructurados**"
   ]
  },
  {
   "cell_type": "markdown",
   "metadata": {},
   "source": [
    "Beautiful is better than ugly.\n",
    "Explicit is better than implicit.\n",
    "Simple is better than complex.\n",
    "Complex is better than complicated.\n",
    "Flat is better than nested.\n",
    "Sparse is better than dense.\n",
    "Readability counts.\n",
    "Special cases aren't special enough to break the rules.\n",
    "Although practicality beats purity.\n",
    "Errors should never pass silently.\n",
    "Unless explicitly silenced.\n",
    "In the face of ambiguity, refuse the temptation to guess.\n",
    "There should be one-- and preferably only one --obvious way to do it.\n",
    "Although that way may not be obvious at first unless you're Dutch.\n",
    "Now is better than never.\n",
    "Although never is often better than *right* now.\n",
    "If the implementation is hard to explain, it's a bad idea.\n",
    "If the implementation is easy to explain, it may be a good idea.\n",
    "Namespaces are one honking great idea -- let's do more of those!"
   ]
  },
  {
   "cell_type": "markdown",
   "metadata": {},
   "source": [
    "**Solicitudes a la web**"
   ]
  },
  {
   "cell_type": "code",
   "execution_count": null,
   "metadata": {},
   "outputs": [],
   "source": [
    "import requests\n",
    "\n",
    "response = requests.get('https://www.platzi.com')\n",
    "\n",
    "#response? #Que contiene una variable \n",
    "# response?? con dos ? se puede ver el código fuente\n",
    "#Luego print(dir(response)) muestra todos los metodos\n",
    "#print(dir(response))"
   ]
  },
  {
   "cell_type": "code",
   "execution_count": null,
   "metadata": {},
   "outputs": [],
   "source": [
    "print(response.status_code)\n",
    "print(response.headers)#Devuelve un diccionario de python\n",
    "print(response.headers['Date']) #Devuelve la fecha del momento del request"
   ]
  },
  {
   "cell_type": "code",
   "execution_count": null,
   "metadata": {},
   "outputs": [],
   "source": [
    "print(response.text) #Muestra el html en texto"
   ]
  },
  {
   "cell_type": "markdown",
   "metadata": {},
   "source": [
    "**Extracción de informacion del HTML**"
   ]
  },
  {
   "cell_type": "code",
   "execution_count": null,
   "metadata": {},
   "outputs": [],
   "source": [
    "import bs4 #Libreria\n",
    "\n",
    "soup = bs4.BeautifulSoup(response.text,'html.parser') #Establece el lector de HTML\n",
    "\n",
    "print(soup.select('meta[name=description]')[0]['content']) # Obtiene el meta con nombre de descripción\n",
    "# Selecciona el primer elemento de la lista\n",
    "courses_links = soup.select('.RecentCourses-list > div.RecentCourses-element > div.RecentCourses-item > a') # Obtiene las classes donde se guardan los cursos recientes\n",
    "courses = [course['href'] for course in courses_links] #Hace una lista con los href de los cursos\n",
    "#Imprime los cursos\n",
    "for course in courses:\n",
    "    print(course)"
   ]
  },
  {
   "cell_type": "markdown",
   "metadata": {},
   "source": [
    "# Pandas\n",
    "**Series**"
   ]
  },
  {
   "cell_type": "code",
   "execution_count": 3,
   "metadata": {},
   "outputs": [
    {
     "data": {
      "text/plain": [
       "1999    48\n",
       "2000    65\n",
       "2001    89\n",
       "dtype: int64"
      ]
     },
     "execution_count": 3,
     "metadata": {},
     "output_type": "execute_result"
    }
   ],
   "source": [
    "import pandas as pd\n",
    "#Serie de prueba\n",
    "series_test = pd.Series([100,200,300])\n",
    "series_test\n",
    "#Serie de prueba 2\n",
    "series_test2 = pd.Series({1999: 48,\n",
    "                         2000: 65,\n",
    "                         2001: 89})\n",
    "series_test2"
   ]
  },
  {
   "cell_type": "markdown",
   "metadata": {},
   "source": [
    "**DataFrames**"
   ]
  },
  {
   "cell_type": "code",
   "execution_count": 8,
   "metadata": {},
   "outputs": [
    {
     "data": {
      "text/html": [
       "<div>\n",
       "<style scoped>\n",
       "    .dataframe tbody tr th:only-of-type {\n",
       "        vertical-align: middle;\n",
       "    }\n",
       "\n",
       "    .dataframe tbody tr th {\n",
       "        vertical-align: top;\n",
       "    }\n",
       "\n",
       "    .dataframe thead th {\n",
       "        text-align: right;\n",
       "    }\n",
       "</style>\n",
       "<table border=\"1\" class=\"dataframe\">\n",
       "  <thead>\n",
       "    <tr style=\"text-align: right;\">\n",
       "      <th></th>\n",
       "      <th>1999</th>\n",
       "      <th>2000</th>\n",
       "      <th>2001</th>\n",
       "    </tr>\n",
       "  </thead>\n",
       "  <tbody>\n",
       "    <tr>\n",
       "      <th>0</th>\n",
       "      <td>73</td>\n",
       "      <td>43</td>\n",
       "      <td>34</td>\n",
       "    </tr>\n",
       "    <tr>\n",
       "      <th>1</th>\n",
       "      <td>23</td>\n",
       "      <td>45</td>\n",
       "      <td>12</td>\n",
       "    </tr>\n",
       "    <tr>\n",
       "      <th>2</th>\n",
       "      <td>25</td>\n",
       "      <td>54</td>\n",
       "      <td>95</td>\n",
       "    </tr>\n",
       "  </tbody>\n",
       "</table>\n",
       "</div>"
      ],
      "text/plain": [
       "   1999  2000  2001\n",
       "0    73    43    34\n",
       "1    23    45    12\n",
       "2    25    54    95"
      ]
     },
     "execution_count": 8,
     "metadata": {},
     "output_type": "execute_result"
    }
   ],
   "source": [
    "#Ejemplo de DataFrame\n",
    "frame_test = pd.DataFrame({1999: [73, 43, 34],\n",
    "                          2000: [23, 45, 12],\n",
    "                          2001: [25, 54, 95]})\n",
    "frame_test\n",
    "frame_test2 = pd.DataFrame([[73, 43, 34],\n",
    "                           [23, 45, 12],\n",
    "                          [25, 54, 95]], columns=[1999, 2000, 2001])\n",
    "frame_test2"
   ]
  },
  {
   "cell_type": "markdown",
   "metadata": {},
   "source": [
    "**Read Data**"
   ]
  },
  {
   "cell_type": "code",
   "execution_count": 4,
   "metadata": {},
   "outputs": [
    {
     "data": {
      "text/html": [
       "<div>\n",
       "<style scoped>\n",
       "    .dataframe tbody tr th:only-of-type {\n",
       "        vertical-align: middle;\n",
       "    }\n",
       "\n",
       "    .dataframe tbody tr th {\n",
       "        vertical-align: top;\n",
       "    }\n",
       "\n",
       "    .dataframe thead th {\n",
       "        text-align: right;\n",
       "    }\n",
       "</style>\n",
       "<table border=\"1\" class=\"dataframe\">\n",
       "  <thead>\n",
       "    <tr style=\"text-align: right;\">\n",
       "      <th></th>\n",
       "      <th>body</th>\n",
       "      <th>title</th>\n",
       "    </tr>\n",
       "  </thead>\n",
       "  <tbody>\n",
       "    <tr>\n",
       "      <th>0</th>\n",
       "      <td>NaN</td>\n",
       "      <td>Martí Batres</td>\n",
       "    </tr>\n",
       "  </tbody>\n",
       "</table>\n",
       "</div>"
      ],
      "text/plain": [
       "   body         title\n",
       "0   NaN  Martí Batres"
      ]
     },
     "execution_count": 4,
     "metadata": {},
     "output_type": "execute_result"
    }
   ],
   "source": [
    "#pd.options.display.max_rows = 10 #Solo muestra los primeros 10 datos\n",
    "el_universal  = pd.read_csv('web_scrapper_data_eng/eluniversal_2020_01_17_articles.csv')\n",
    "#el_universal.head() primeros 5 datos\n",
    "#el_universal.tail() ultimos 5 datos\n",
    "el_universal"
   ]
  },
  {
   "cell_type": "markdown",
   "metadata": {},
   "source": [
    "**Index and selection**"
   ]
  },
  {
   "cell_type": "code",
   "execution_count": 5,
   "metadata": {},
   "outputs": [
    {
     "name": "stdout",
     "output_type": "stream",
     "text": [
      "0    Martí Batres\n",
      "Name: title, dtype: object\n"
     ]
    }
   ],
   "source": [
    "# Dictionary like\n",
    "\n",
    "print(el_universal['title'])\n",
    "# print(el_universal[['title','url']]) Regresa un nuevo data frame\n",
    "\n",
    "# Numpy like\n",
    "#print(el_universal.iloc[10:15]) Selección de la fila 10 a la 14\n",
    "#print(el_universal.iloc[66]['title']) Obtiene el titulo de la columna 67\n",
    "#print(el_universal.iloc[:5, 0]) No es una forma usual que obtiene el body de los registros del 0 al 4\n",
    "\n",
    "#Label\n",
    "#print(el_universal.loc[:,'body':'title']) Todos los registros pero sólo body y title"
   ]
  },
  {
   "cell_type": "markdown",
   "metadata": {},
   "source": [
    "**Data wrangling**"
   ]
  },
  {
   "cell_type": "code",
   "execution_count": 5,
   "metadata": {},
   "outputs": [
    {
     "name": "stdout",
     "output_type": "stream",
     "text": [
      "   body         title newspapes_uid\n",
      "0   NaN  Martí Batres   eluniversal\n"
     ]
    }
   ],
   "source": [
    "# 1. Añadir newspaper_uid al DataFrame\n",
    "\n",
    "el_universal['newspapes_uid'] = 'eluniversal'#Le añadimos una columna que es el id del newspaper\n",
    "\n",
    "print(el_universal)\n",
    "#2. Obtener el host\n",
    "#Importamos urlparse\n",
    "#from urllib.parse import urlparse\n",
    "# En la siguiente obtenemos el host de los url utilizando apply (de pandas) a una función lambda(inline) y usando el urlparse para obtener el host en cada url\n",
    "#el_universal['host'] = el_universal['url'].apply(lambda url: urlparse(url).netloc)\n",
    "\n",
    "#el_universal['host'].value_count() #Devuelve cuantas veces se repite un valor en una serie del dataset"
   ]
  },
  {
   "cell_type": "markdown",
   "metadata": {},
   "source": [
    "**Missing data**"
   ]
  },
  {
   "cell_type": "code",
   "execution_count": 4,
   "metadata": {},
   "outputs": [
    {
     "name": "stdout",
     "output_type": "stream",
     "text": [
      "0    False\n",
      "Name: title, dtype: bool\n"
     ]
    }
   ],
   "source": [
    "#3. Rellenar datos faltantes\n",
    "\n",
    "missing_titles_mask = el_universal['title'].isna()\n",
    "\n",
    "print(missing_titles_mask) #Serie de si los titulos estan o no vacios\n",
    "# Obtiene la parte final de los url que usualmente tienen los títulos y los divide para convertirlos en títulos\n",
    "# missing_titles = (el_universal[missing_titles_mask]['url']\n",
    "#                   .str.extract(r'(?P<missing_titles>[^/]+)$'\n",
    "#                   .applymap(lambda title: title.split(-))\n",
    "#                   .applymap(lambda title_word_list: ' '.join(title_word_list)))\n",
    "#                    )\n",
    "#print(missing_titles) #Imprime los títulos que faltan"
   ]
  },
  {
   "cell_type": "markdown",
   "metadata": {},
   "source": [
    "**Additional cleanup**"
   ]
  },
  {
   "cell_type": "code",
   "execution_count": 2,
   "metadata": {},
   "outputs": [],
   "source": [
    "#4. añadir uid a las filas\n",
    "# import hashlib\n",
    "# Obtiene los uids utilizando hashlib con referencia a los url en numeros hexadecimales\n",
    "# uids = (el_universal\n",
    "#             .apply(lambda row: hashlib.md5(bytes(row['url'].encode())), axis=1)\n",
    "#             .apply(lambda hash_object: hash_object.hexdigest())\n",
    "#         )\n",
    "# Coloca la columna uid en el df como primera columna\n",
    "# el_universal['uid'] = uids\n",
    "# el_universal.set_index('uid', inplace=True)\n",
    "\n",
    "# print(el_universal)\n",
    "\n",
    "# Para eliminar los saltos de linea en el body y crear una serie con los bodies\n",
    "# stripped_body = (el_universal\n",
    "#                     .apply(lambda row: row['body'], axis=1) #Obtiene el body del df\n",
    "#                     .apply(lambda body: list(body)) #Lo convierte en una lista de letras\n",
    "#                     .apply(lambda letters: list(map(lambda letter: letter.replace('\\n',''),letters))) #Cambia los saltos en espacios vacios en letters\n",
    "#                     .apply(lambda letters: ''.join(letters))#Une las letras separadas  \n",
    "#                 )\n",
    "# print(stripped_body)"
   ]
  },
  {
   "cell_type": "markdown",
   "metadata": {},
   "source": [
    "**Data enrichment**"
   ]
  },
  {
   "cell_type": "code",
   "execution_count": 7,
   "metadata": {},
   "outputs": [
    {
     "name": "stderr",
     "output_type": "stream",
     "text": [
      "[nltk_data] Downloading package punkt to /home/rodrigojgq/nltk_data...\n",
      "[nltk_data]   Package punkt is already up-to-date!\n",
      "[nltk_data] Downloading package stopwords to\n",
      "[nltk_data]     /home/rodrigojgq/nltk_data...\n",
      "[nltk_data]   Unzipping corpora/stopwords.zip.\n"
     ]
    },
    {
     "data": {
      "text/plain": [
       "True"
      ]
     },
     "execution_count": 7,
     "metadata": {},
     "output_type": "execute_result"
    }
   ],
   "source": [
    "# nltk.download('punkt')\n",
    "# nltk.download('stopwords')"
   ]
  },
  {
   "cell_type": "code",
   "execution_count": 12,
   "metadata": {},
   "outputs": [],
   "source": [
    "# #6. tokenizar el título y el body\n",
    "# import nltk #conda install nltk\n",
    "# from nltk.corpus import stopwords\n",
    "\n",
    "\n",
    "# stop_words = set(stopwords.words('spanish'))\n",
    "\n",
    "# def tockenize_column(df, column_name):\n",
    "#     return (df\n",
    "#             .dropna()\n",
    "#             .apply(lambda row: nltk.word_tokenize(row[column_name]), axis=1) #selecciona los datos\n",
    "#             .apply(lambda tokens: list(filter(lambda token: token.isalpha(),tokens))) #Los convierte en tokens alphanuméricos\n",
    "#             .apply(lambda tokens: list(map(lambda token: token.lower(), tokens))) #las convierte en minúsculas\n",
    "#             .apply(lambda word_list: list(filter(lambda word: word not in stop_words, word_list))) #Genera una lista de palabras validas\n",
    "#             .apply(lambda valid_word_list: len(valid_word_list)) #Cuenta las palabras validas\n",
    "#            )\n",
    "# #Tokeniza los titulos y los body\n",
    "# el_universal['n_tokens_title'] =tockenize_column(el_universal, 'title')\n",
    "# el_universal['n_tokens_body'] =tockenize_column(el_universal, 'body')\n",
    "# print(el_universal)"
   ]
  },
  {
   "cell_type": "markdown",
   "metadata": {},
   "source": [
    "**Duplicate values**"
   ]
  },
  {
   "cell_type": "code",
   "execution_count": null,
   "metadata": {},
   "outputs": [],
   "source": [
    "#7. Eliminar duplicados\n",
    "# Elimina los valores duplicados de a cuerdo a título\n",
    "# el_universal.drop_duplicates(subset=['titles'], keep='first', inplace = True)\n",
    "# Las transformaciones terminan en este lugar\n",
    "# print(el_universal)"
   ]
  }
 ],
 "metadata": {
  "kernelspec": {
   "display_name": "Python 3",
   "language": "python",
   "name": "python3"
  },
  "language_info": {
   "codemirror_mode": {
    "name": "ipython",
    "version": 3
   },
   "file_extension": ".py",
   "mimetype": "text/x-python",
   "name": "python",
   "nbconvert_exporter": "python",
   "pygments_lexer": "ipython3",
   "version": "3.7.5"
  }
 },
 "nbformat": 4,
 "nbformat_minor": 2
}
